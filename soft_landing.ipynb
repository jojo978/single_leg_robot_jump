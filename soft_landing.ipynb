{
 "cells": [
  {
   "cell_type": "code",
   "execution_count": 1,
   "metadata": {},
   "outputs": [],
   "source": [
    "import importlib\n",
    "\n",
    "import cvxpy as cp\n",
    "import matplotlib.pyplot as plt\n",
    "import numpy as np\n",
    "import sympy as sm\n",
    "import sympy.physics.mechanics as me\n",
    "\n",
    "import robot\n",
    "import interpolation\n",
    "\n",
    "\n",
    "%config InlineBackend.figure_formats = ['svg']\n",
    "me.functions.mechanics_printing(use_latex=\"mathjax\", latex_mode=\"equation\")"
   ]
  },
  {
   "cell_type": "markdown",
   "metadata": {},
   "source": [
    "### Soft-landing control\n",
    "- Can I consider this as an activate inelastic collision?\n",
    "- The soft-landing conditions.\n",
    "    - `r.Pe.vel(r.N).dot(r.NA.x) == 0` at the moment of a touch-down.\n",
    "    - Assuming that `r.Pe.vel(r.N).dot(r.Na.z)` can be adjusted instantly.\n",
    "    - Thus, `r.Pe.vel(r.N)` would be 0.\n",
    "- It is a non-linear control problem. Right?\n",
    "- How to control $u_{\\theta_2}$ for the soft-landing?\n",
    "    1. The shooting method?\n",
    "    2. A machine learning technique?\n",
    "    3. Halmilton-Jacobi-Bellman equations?\n"
   ]
  },
  {
   "cell_type": "code",
   "execution_count": null,
   "metadata": {},
   "outputs": [],
   "source": []
  }
 ],
 "metadata": {
  "kernelspec": {
   "display_name": "py313",
   "language": "python",
   "name": "python3"
  },
  "language_info": {
   "codemirror_mode": {
    "name": "ipython",
    "version": 3
   },
   "file_extension": ".py",
   "mimetype": "text/x-python",
   "name": "python",
   "nbconvert_exporter": "python",
   "pygments_lexer": "ipython3",
   "version": "3.13.2"
  }
 },
 "nbformat": 4,
 "nbformat_minor": 2
}
